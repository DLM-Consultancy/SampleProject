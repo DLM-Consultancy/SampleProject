{
 "cells": [
  {
   "cell_type": "markdown",
   "id": "c01497cf",
   "metadata": {},
   "source": [
    "# Konsep Cell"
   ]
  },
  {
   "cell_type": "code",
   "execution_count": 1,
   "id": "fc86d979",
   "metadata": {},
   "outputs": [
    {
     "name": "stdout",
     "output_type": "stream",
     "text": [
      "Budi berumur 25 tahun\n"
     ]
    }
   ],
   "source": [
    "# Kotak untuk nulis dan jalankan kode\n",
    "nama = \"Budi\"\n",
    "umur = 25\n",
    "print(f\"{nama} berumur {umur} tahun\")\n",
    "\n",
    "# Pencet Shift+Enter untuk jalankan\n",
    "# Output: Budi berumur 25 tahun"
   ]
  },
  {
   "cell_type": "markdown",
   "id": "3c66bf8d",
   "metadata": {},
   "source": [
    "# Judul Project\n",
    "Ini adalah analisis data penjualan\n",
    "\n",
    "## Langkah-langkah:\n",
    "1. Import data\n",
    "2. Cleaning\n",
    "3. Visualisasi"
   ]
  },
  {
   "cell_type": "markdown",
   "id": "2751c2c9",
   "metadata": {},
   "source": [
    "# Cara Kerja Jupyter"
   ]
  },
  {
   "cell_type": "markdown",
   "id": "b350dfe1",
   "metadata": {},
   "source": [
    "Tulis Kode"
   ]
  },
  {
   "cell_type": "code",
   "execution_count": 2,
   "id": "4738447e",
   "metadata": {},
   "outputs": [],
   "source": [
    "# Cell 1\n",
    "import pandas as pd\n",
    "data = pd.read_csv('sales.csv')"
   ]
  },
  {
   "cell_type": "markdown",
   "id": "0a24c94f",
   "metadata": {},
   "source": [
    "Run (Shift + Enter)"
   ]
  },
  {
   "cell_type": "code",
   "execution_count": 3,
   "id": "b60027f1",
   "metadata": {},
   "outputs": [
    {
     "data": {
      "text/html": [
       "<div>\n",
       "<style scoped>\n",
       "    .dataframe tbody tr th:only-of-type {\n",
       "        vertical-align: middle;\n",
       "    }\n",
       "\n",
       "    .dataframe tbody tr th {\n",
       "        vertical-align: top;\n",
       "    }\n",
       "\n",
       "    .dataframe thead th {\n",
       "        text-align: right;\n",
       "    }\n",
       "</style>\n",
       "<table border=\"1\" class=\"dataframe\">\n",
       "  <thead>\n",
       "    <tr style=\"text-align: right;\">\n",
       "      <th></th>\n",
       "      <th>date</th>\n",
       "      <th>product</th>\n",
       "      <th>category</th>\n",
       "      <th>quantity</th>\n",
       "      <th>price</th>\n",
       "      <th>total</th>\n",
       "      <th>region</th>\n",
       "      <th>salesperson</th>\n",
       "    </tr>\n",
       "  </thead>\n",
       "  <tbody>\n",
       "    <tr>\n",
       "      <th>0</th>\n",
       "      <td>2024-01-01</td>\n",
       "      <td>Laptop</td>\n",
       "      <td>Electronics</td>\n",
       "      <td>2</td>\n",
       "      <td>15000000</td>\n",
       "      <td>30000000</td>\n",
       "      <td>Jakarta</td>\n",
       "      <td>Budi</td>\n",
       "    </tr>\n",
       "    <tr>\n",
       "      <th>1</th>\n",
       "      <td>2024-01-01</td>\n",
       "      <td>Mouse</td>\n",
       "      <td>Accessories</td>\n",
       "      <td>5</td>\n",
       "      <td>150000</td>\n",
       "      <td>750000</td>\n",
       "      <td>Jakarta</td>\n",
       "      <td>Budi</td>\n",
       "    </tr>\n",
       "    <tr>\n",
       "      <th>2</th>\n",
       "      <td>2024-01-02</td>\n",
       "      <td>Keyboard</td>\n",
       "      <td>Accessories</td>\n",
       "      <td>3</td>\n",
       "      <td>500000</td>\n",
       "      <td>1500000</td>\n",
       "      <td>Surabaya</td>\n",
       "      <td>Ani</td>\n",
       "    </tr>\n",
       "    <tr>\n",
       "      <th>3</th>\n",
       "      <td>2024-01-02</td>\n",
       "      <td>Monitor</td>\n",
       "      <td>Electronics</td>\n",
       "      <td>1</td>\n",
       "      <td>3000000</td>\n",
       "      <td>3000000</td>\n",
       "      <td>Surabaya</td>\n",
       "      <td>Ani</td>\n",
       "    </tr>\n",
       "    <tr>\n",
       "      <th>4</th>\n",
       "      <td>2024-01-03</td>\n",
       "      <td>Laptop</td>\n",
       "      <td>Electronics</td>\n",
       "      <td>1</td>\n",
       "      <td>15000000</td>\n",
       "      <td>15000000</td>\n",
       "      <td>Bandung</td>\n",
       "      <td>Citra</td>\n",
       "    </tr>\n",
       "  </tbody>\n",
       "</table>\n",
       "</div>"
      ],
      "text/plain": [
       "         date   product     category  quantity     price     total    region  \\\n",
       "0  2024-01-01    Laptop  Electronics         2  15000000  30000000   Jakarta   \n",
       "1  2024-01-01     Mouse  Accessories         5    150000    750000   Jakarta   \n",
       "2  2024-01-02  Keyboard  Accessories         3    500000   1500000  Surabaya   \n",
       "3  2024-01-02   Monitor  Electronics         1   3000000   3000000  Surabaya   \n",
       "4  2024-01-03    Laptop  Electronics         1  15000000  15000000   Bandung   \n",
       "\n",
       "  salesperson  \n",
       "0        Budi  \n",
       "1        Budi  \n",
       "2         Ani  \n",
       "3         Ani  \n",
       "4       Citra  "
      ]
     },
     "execution_count": 3,
     "metadata": {},
     "output_type": "execute_result"
    }
   ],
   "source": [
    "# Cell 2  \n",
    "data.head()  # Lihat 5 baris pertama"
   ]
  },
  {
   "cell_type": "markdown",
   "id": "12689ac9",
   "metadata": {},
   "source": [
    "Visualisasi"
   ]
  },
  {
   "cell_type": "code",
   "execution_count": 9,
   "id": "e39ad4f9",
   "metadata": {},
   "outputs": [
    {
     "data": {
      "image/png": "[encoded data removed]",
      "text/plain": [
       "<Figure size 640x480 with 1 Axes>"
      ]
     },
     "metadata": {},
     "output_type": "display_data"
    }
   ],
   "source": [
    "# Cell 3 - Total Penjualan per Tanggal\n",
    "import matplotlib.pyplot as plt\n",
    "\n",
    "# Grouping by date\n",
    "daily_sales = data.groupby('date')['total'].sum()\n",
    "daily_sales.plot(kind='bar')\n",
    "plt.title('Total Penjualan Harian')\n",
    "plt.xlabel('Tanggal')\n",
    "plt.ylabel('Total (Rp)')\n",
    "plt.xticks(rotation=45)\n",
    "plt.tight_layout()\n",
    "plt.show()"
   ]
  }
 ],
 "metadata": {
  "kernelspec": {
   "display_name": "dlm",
   "language": "python",
   "name": "python3"
  },
  "language_info": {
   "codemirror_mode": {
    "name": "ipython",
    "version": 3
   },
   "file_extension": ".py",
   "mimetype": "text/x-python",
   "name": "python",
   "nbconvert_exporter": "python",
   "pygments_lexer": "ipython3",
   "version": "3.11.5"
  }
 },
 "nbformat": 4,
 "nbformat_minor": 5
}
