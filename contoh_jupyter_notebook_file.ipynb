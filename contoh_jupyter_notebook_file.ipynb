{
 "cells": [
  {
   "cell_type": "code",
   "execution_count": 1,
   "id": "ad783b75",
   "metadata": {},
   "outputs": [
    {
     "name": "stdout",
     "output_type": "stream",
     "text": [
      "Hello World!\n",
      "Ini adalah Python script biasa\n"
     ]
    }
   ],
   "source": [
    "# Program Hello World sederhana\n",
    "print(\"Hello World!\")\n",
    "print(\"Ini adalah Python script biasa\")"
   ]
  },
  {
   "cell_type": "code",
   "execution_count": 2,
   "id": "3f48af7a",
   "metadata": {},
   "outputs": [
    {
     "name": "stdout",
     "output_type": "stream",
     "text": [
      "1 + 1 = 2\n"
     ]
    }
   ],
   "source": [
    "# Menghitung 1 + 1\n",
    "hasil = 1 + 1\n",
    "print(f\"1 + 1 = {hasil}\")"
   ]
  },
  {
   "cell_type": "code",
   "execution_count": 3,
   "id": "9a11862d",
   "metadata": {},
   "outputs": [
    {
     "name": "stdout",
     "output_type": "stream",
     "text": [
      "Loop ke-1\n",
      "Loop ke-2\n",
      "Loop ke-3\n"
     ]
    }
   ],
   "source": [
    "# Loop sederhana\n",
    "for i in range(3):\n",
    "    print(f\"Loop ke-{i+1}\")"
   ]
  }
 ],
 "metadata": {
  "kernelspec": {
   "display_name": "dlm",
   "language": "python",
   "name": "python3"
  },
  "language_info": {
   "codemirror_mode": {
    "name": "ipython",
    "version": 3
   },
   "file_extension": ".py",
   "mimetype": "text/x-python",
   "name": "python",
   "nbconvert_exporter": "python",
   "pygments_lexer": "ipython3",
   "version": "3.11.5"
  }
 },
 "nbformat": 4,
 "nbformat_minor": 5
}
