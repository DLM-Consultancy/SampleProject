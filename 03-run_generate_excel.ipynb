{
 "cells": [
  {
   "cell_type": "markdown",
   "id": "bfedb428",
   "metadata": {},
   "source": [
    "# Run Generate Excel"
   ]
  },
  {
   "cell_type": "code",
   "execution_count": 2,
   "id": "5931f8f5",
   "metadata": {},
   "outputs": [
    {
     "data": {
      "text/plain": [
       "'Excel file successfully created at: d:\\\\SampleProject\\\\sales_excel.xlsx'"
      ]
     },
     "execution_count": 2,
     "metadata": {},
     "output_type": "execute_result"
    }
   ],
   "source": [
    "from generate_excel_func import generate_excel\n",
    "import pandas as pd\n",
    "\n",
    "# Read data from sales.csv\n",
    "sales_csv_data = pd.read_csv('sales.csv')\n",
    "\n",
    "# Generate the Excel file\n",
    "generate_excel(sales_csv_data, 'sales_excel.xlsx')"
   ]
  }
 ],
 "metadata": {
  "kernelspec": {
   "display_name": "dlm",
   "language": "python",
   "name": "python3"
  },
  "language_info": {
   "codemirror_mode": {
    "name": "ipython",
    "version": 3
   },
   "file_extension": ".py",
   "mimetype": "text/x-python",
   "name": "python",
   "nbconvert_exporter": "python",
   "pygments_lexer": "ipython3",
   "version": "3.11.5"
  }
 },
 "nbformat": 4,
 "nbformat_minor": 5
}
