{
 "cells": [
  {
   "cell_type": "markdown",
   "id": "ff1bdd0c",
   "metadata": {},
   "source": [
    "# Understanding Libraries: Calculate Square Root"
   ]
  },
  {
   "cell_type": "markdown",
   "id": "71ff21a2",
   "metadata": {},
   "source": [
    "### METHOD 1: Manual (complicated math formula)"
   ]
  },
  {
   "cell_type": "code",
   "execution_count": 1,
   "id": "23273812",
   "metadata": {},
   "outputs": [
    {
     "name": "stdout",
     "output_type": "stream",
     "text": [
      "Manual calculation: √25 = 5.000000000016778\n"
     ]
    }
   ],
   "source": [
    "number = 25\n",
    "guess = number / 2\n",
    "for i in range(5):  # Newton's method\n",
    "    guess = (guess + number/guess) / 2\n",
    "print(f\"Manual calculation: √{number} = {guess}\")"
   ]
  },
  {
   "cell_type": "markdown",
   "id": "43ce4a55",
   "metadata": {},
   "source": [
    "### METHOD 2: Using a library (1 line!)\n",
    "Libraries = Ready-made tools that save you time!"
   ]
  },
  {
   "cell_type": "code",
   "execution_count": 2,
   "id": "0cf3dab2",
   "metadata": {},
   "outputs": [
    {
     "name": "stdout",
     "output_type": "stream",
     "text": [
      "Using math library: √25 = 5.0\n"
     ]
    }
   ],
   "source": [
    "import math\n",
    "print(f\"Using math library: √{number} = {math.sqrt(number)}\")"
   ]
  }
 ],
 "metadata": {
  "kernelspec": {
   "display_name": "dlm",
   "language": "python",
   "name": "python3"
  },
  "language_info": {
   "codemirror_mode": {
    "name": "ipython",
    "version": 3
   },
   "file_extension": ".py",
   "mimetype": "text/x-python",
   "name": "python",
   "nbconvert_exporter": "python",
   "pygments_lexer": "ipython3",
   "version": "3.11.5"
  }
 },
 "nbformat": 4,
 "nbformat_minor": 5
}
